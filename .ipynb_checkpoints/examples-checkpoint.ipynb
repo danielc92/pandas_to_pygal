{
 "cells": [
  {
   "cell_type": "code",
   "execution_count": 1,
   "metadata": {},
   "outputs": [],
   "source": [
    "from pandas2pygal import pandpyg_bar, pandpyg_line, pandpyg_pie, pandpyg_groupedbar, pandpyg_dot, pandpyg_stackedbar, pandpyg_stackedline\n",
    "import numpy\n",
    "import pandas"
   ]
  },
  {
   "cell_type": "code",
   "execution_count": 2,
   "metadata": {},
   "outputs": [],
   "source": [
    "data = pandas.read_excel('../python_nb_visualization/data/Sample - Superstore Sales (Excel).xlsx')"
   ]
  },
  {
   "cell_type": "code",
   "execution_count": 3,
   "metadata": {},
   "outputs": [
    {
     "name": "stdout",
     "output_type": "stream",
     "text": [
      "file:///var/folders/vl/m6tbf3n577342zgywv5wpz040000gn/T/tmphfnz8d7n.html\n"
     ]
    }
   ],
   "source": [
    "chart = pandpyg_groupedbar(data = data, \n",
    "                            group_primary = 'Region', \n",
    "                            group_secondary = 'Customer Segment',\n",
    "                            aggregate_type = 'sum',\n",
    "                            aggregate_by = 'Sales',\n",
    "                            custom_config = None,\n",
    "                            custom_style = None)\n",
    "\n",
    "chart.render_in_browser()"
   ]
  },
  {
   "cell_type": "code",
   "execution_count": 4,
   "metadata": {},
   "outputs": [
    {
     "name": "stdout",
     "output_type": "stream",
     "text": [
      "file:///var/folders/vl/m6tbf3n577342zgywv5wpz040000gn/T/tmpf0mzae7a.html\n"
     ]
    }
   ],
   "source": [
    "chart = pandpyg_bar(data = data, \n",
    "                            group_primary = 'Region',\n",
    "                            aggregate_by = 'Sales',\n",
    "                            aggregate_type = 'sum',\n",
    "                            custom_config = None,\n",
    "                            custom_style = None)\n",
    "chart.render_in_browser()"
   ]
  }
 ],
 "metadata": {
  "kernelspec": {
   "display_name": "Python 3",
   "language": "python",
   "name": "python3"
  },
  "language_info": {
   "codemirror_mode": {
    "name": "ipython",
    "version": 3
   },
   "file_extension": ".py",
   "mimetype": "text/x-python",
   "name": "python",
   "nbconvert_exporter": "python",
   "pygments_lexer": "ipython3",
   "version": "3.6.5"
  },
  "toc": {
   "base_numbering": 1,
   "nav_menu": {},
   "number_sections": true,
   "sideBar": true,
   "skip_h1_title": false,
   "title_cell": "Table of Contents",
   "title_sidebar": "Contents",
   "toc_cell": false,
   "toc_position": {},
   "toc_section_display": true,
   "toc_window_display": false
  },
  "varInspector": {
   "cols": {
    "lenName": 16,
    "lenType": 16,
    "lenVar": 40
   },
   "kernels_config": {
    "python": {
     "delete_cmd_postfix": "",
     "delete_cmd_prefix": "del ",
     "library": "var_list.py",
     "varRefreshCmd": "print(var_dic_list())"
    },
    "r": {
     "delete_cmd_postfix": ") ",
     "delete_cmd_prefix": "rm(",
     "library": "var_list.r",
     "varRefreshCmd": "cat(var_dic_list()) "
    }
   },
   "types_to_exclude": [
    "module",
    "function",
    "builtin_function_or_method",
    "instance",
    "_Feature"
   ],
   "window_display": false
  }
 },
 "nbformat": 4,
 "nbformat_minor": 2
}
