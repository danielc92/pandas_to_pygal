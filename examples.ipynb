{
 "cells": [
  {
   "cell_type": "markdown",
   "metadata": {},
   "source": [
    "### Import modules"
   ]
  },
  {
   "cell_type": "code",
   "execution_count": 1,
   "metadata": {},
   "outputs": [],
   "source": [
    "import pandas2pygal\n",
    "from pygal.style import Style\n",
    "from pygal import Config\n",
    "import pandas"
   ]
  },
  {
   "cell_type": "markdown",
   "metadata": {},
   "source": [
    "### Import and preview data (taken from sample-superstore sales)"
   ]
  },
  {
   "cell_type": "code",
   "execution_count": 2,
   "metadata": {},
   "outputs": [],
   "source": [
    "data = pandas.read_excel('../../stashed/Sample - Superstore Sales (Excel).xlsx')"
   ]
  },
  {
   "cell_type": "code",
   "execution_count": 3,
   "metadata": {},
   "outputs": [
    {
     "data": {
      "text/html": [
       "<div>\n",
       "<style scoped>\n",
       "    .dataframe tbody tr th:only-of-type {\n",
       "        vertical-align: middle;\n",
       "    }\n",
       "\n",
       "    .dataframe tbody tr th {\n",
       "        vertical-align: top;\n",
       "    }\n",
       "\n",
       "    .dataframe thead th {\n",
       "        text-align: right;\n",
       "    }\n",
       "</style>\n",
       "<table border=\"1\" class=\"dataframe\">\n",
       "  <thead>\n",
       "    <tr style=\"text-align: right;\">\n",
       "      <th></th>\n",
       "      <th>Row ID</th>\n",
       "      <th>Order ID</th>\n",
       "      <th>Order Date</th>\n",
       "      <th>Order Priority</th>\n",
       "      <th>Order Quantity</th>\n",
       "      <th>Sales</th>\n",
       "      <th>Discount</th>\n",
       "      <th>Ship Mode</th>\n",
       "      <th>Profit</th>\n",
       "      <th>Unit Price</th>\n",
       "      <th>...</th>\n",
       "      <th>Customer Name</th>\n",
       "      <th>Province</th>\n",
       "      <th>Region</th>\n",
       "      <th>Customer Segment</th>\n",
       "      <th>Product Category</th>\n",
       "      <th>Product Sub-Category</th>\n",
       "      <th>Product Name</th>\n",
       "      <th>Product Container</th>\n",
       "      <th>Product Base Margin</th>\n",
       "      <th>Ship Date</th>\n",
       "    </tr>\n",
       "  </thead>\n",
       "  <tbody>\n",
       "    <tr>\n",
       "      <th>0</th>\n",
       "      <td>4450</td>\n",
       "      <td>31715</td>\n",
       "      <td>2009-01-09</td>\n",
       "      <td>Not Specified</td>\n",
       "      <td>11</td>\n",
       "      <td>68.5000</td>\n",
       "      <td>0.01</td>\n",
       "      <td>Regular Air</td>\n",
       "      <td>-53.8545</td>\n",
       "      <td>5.38</td>\n",
       "      <td>...</td>\n",
       "      <td>Mark Haberlin</td>\n",
       "      <td>British Columbia</td>\n",
       "      <td>West</td>\n",
       "      <td>Small Business</td>\n",
       "      <td>Office Supplies</td>\n",
       "      <td>Binders and Binder Accessories</td>\n",
       "      <td>Acco PRESSTEX® Data Binder with Storage Hooks,...</td>\n",
       "      <td>Small Box</td>\n",
       "      <td>0.36</td>\n",
       "      <td>2009-01-10</td>\n",
       "    </tr>\n",
       "    <tr>\n",
       "      <th>1</th>\n",
       "      <td>4451</td>\n",
       "      <td>31715</td>\n",
       "      <td>2009-01-09</td>\n",
       "      <td>Not Specified</td>\n",
       "      <td>44</td>\n",
       "      <td>145.1900</td>\n",
       "      <td>0.05</td>\n",
       "      <td>Regular Air</td>\n",
       "      <td>-116.8700</td>\n",
       "      <td>3.28</td>\n",
       "      <td>...</td>\n",
       "      <td>Mark Haberlin</td>\n",
       "      <td>British Columbia</td>\n",
       "      <td>West</td>\n",
       "      <td>Small Business</td>\n",
       "      <td>Office Supplies</td>\n",
       "      <td>Pens &amp; Art Supplies</td>\n",
       "      <td>Newell 337</td>\n",
       "      <td>Wrap Bag</td>\n",
       "      <td>0.56</td>\n",
       "      <td>2009-01-09</td>\n",
       "    </tr>\n",
       "    <tr>\n",
       "      <th>2</th>\n",
       "      <td>4452</td>\n",
       "      <td>31718</td>\n",
       "      <td>2010-11-27</td>\n",
       "      <td>Low</td>\n",
       "      <td>24</td>\n",
       "      <td>1390.6935</td>\n",
       "      <td>0.03</td>\n",
       "      <td>Regular Air</td>\n",
       "      <td>168.4620</td>\n",
       "      <td>65.99</td>\n",
       "      <td>...</td>\n",
       "      <td>Nona Balk</td>\n",
       "      <td>New Brunswick</td>\n",
       "      <td>Atlantic</td>\n",
       "      <td>Corporate</td>\n",
       "      <td>Technology</td>\n",
       "      <td>Telephones and Communication</td>\n",
       "      <td>5190</td>\n",
       "      <td>Small Box</td>\n",
       "      <td>0.59</td>\n",
       "      <td>2010-12-01</td>\n",
       "    </tr>\n",
       "  </tbody>\n",
       "</table>\n",
       "<p>3 rows × 21 columns</p>\n",
       "</div>"
      ],
      "text/plain": [
       "   Row ID  Order ID Order Date Order Priority  Order Quantity      Sales  \\\n",
       "0    4450     31715 2009-01-09  Not Specified              11    68.5000   \n",
       "1    4451     31715 2009-01-09  Not Specified              44   145.1900   \n",
       "2    4452     31718 2010-11-27            Low              24  1390.6935   \n",
       "\n",
       "   Discount    Ship Mode    Profit  Unit Price    ...      Customer Name  \\\n",
       "0      0.01  Regular Air  -53.8545        5.38    ...      Mark Haberlin   \n",
       "1      0.05  Regular Air -116.8700        3.28    ...      Mark Haberlin   \n",
       "2      0.03  Regular Air  168.4620       65.99    ...          Nona Balk   \n",
       "\n",
       "           Province    Region Customer Segment Product Category  \\\n",
       "0  British Columbia      West   Small Business  Office Supplies   \n",
       "1  British Columbia      West   Small Business  Office Supplies   \n",
       "2     New Brunswick  Atlantic        Corporate       Technology   \n",
       "\n",
       "             Product Sub-Category  \\\n",
       "0  Binders and Binder Accessories   \n",
       "1             Pens & Art Supplies   \n",
       "2    Telephones and Communication   \n",
       "\n",
       "                                        Product Name Product Container  \\\n",
       "0  Acco PRESSTEX® Data Binder with Storage Hooks,...         Small Box   \n",
       "1                                         Newell 337          Wrap Bag   \n",
       "2                                               5190         Small Box   \n",
       "\n",
       "  Product Base Margin  Ship Date  \n",
       "0                0.36 2009-01-10  \n",
       "1                0.56 2009-01-09  \n",
       "2                0.59 2010-12-01  \n",
       "\n",
       "[3 rows x 21 columns]"
      ]
     },
     "execution_count": 3,
     "metadata": {},
     "output_type": "execute_result"
    }
   ],
   "source": [
    "data.head(3)"
   ]
  },
  {
   "cell_type": "markdown",
   "metadata": {},
   "source": [
    "## Examples"
   ]
  },
  {
   "cell_type": "markdown",
   "metadata": {},
   "source": [
    "### Example 1: Bar chart (without custom config/style) "
   ]
  },
  {
   "cell_type": "code",
   "execution_count": 4,
   "metadata": {},
   "outputs": [],
   "source": [
    "chart = pandas2pygal.bar(data=data, \n",
    "                                 aggregate_by='Sales',\n",
    "                                 aggregate_type='sum',\n",
    "                                 group_primary='Region')\n",
    "\n",
    "chart.render_to_file('barchart.svg')"
   ]
  },
  {
   "cell_type": "markdown",
   "metadata": {},
   "source": [
    "### Example 2: Stacked Bar chart (without custom config/style)"
   ]
  },
  {
   "cell_type": "code",
   "execution_count": 5,
   "metadata": {},
   "outputs": [],
   "source": [
    "chart = pandas2pygal.stackedbar(data=data, \n",
    "                                 aggregate_by='Sales',\n",
    "                                 aggregate_type='sum',\n",
    "                                 group_primary='Region',\n",
    "                                 group_secondary='Customer Segment')\n",
    "\n",
    "chart.render_to_file('stackedbarchart.svg')"
   ]
  },
  {
   "cell_type": "markdown",
   "metadata": {},
   "source": [
    "### Example 3: Pie chart (using custom style and config)\n",
    "- Settings for styling and configuration can be found here:\n",
    "- Config: www.pygal.org/en/stable/api/pygal.config.html\n",
    "- Style: http://www.pygal.org/en/stable/documentation/custom_styles.html"
   ]
  },
  {
   "cell_type": "code",
   "execution_count": 6,
   "metadata": {},
   "outputs": [],
   "source": [
    "custom_config = Config(legend_at_bottom = True,\n",
    "                      title = 'Pie chart',\n",
    "                      legend_at_bottom_columns = 3,\n",
    "                      show_legend = True,\n",
    "                      print_values = False,\n",
    "                      value_formatter = lambda value: '${:.1f}'.format(value))\n",
    "\n",
    "\n",
    "custom_style = Style(font_family = 'googlefont:Roboto',\n",
    "                     colors = ['#007BFF', '#28A745', '#DC3545', '#FFC107'],\n",
    "                     opacity = .8,\n",
    "                     hover_opacity = 1,\n",
    "                     legend_font_size = 18,\n",
    "                     tooltip_font_size = 24,\n",
    "                     major_label_font_size = 20,\n",
    "                     label_font_size = 16)\n",
    "\n",
    "\n",
    "chart = pandas2pygal.pie(data=data,\n",
    "                                 aggregate_by='Sales',\n",
    "                                 aggregate_type='mean',\n",
    "                                 group_primary='Customer Segment',\n",
    "                                 custom_config=custom_config,\n",
    "                                 custom_style=custom_style)\n",
    "\n",
    "chart.render_to_file('piechart.svg')"
   ]
  },
  {
   "cell_type": "markdown",
   "metadata": {},
   "source": [
    "### Example 4: Scatter chart"
   ]
  },
  {
   "cell_type": "code",
   "execution_count": 11,
   "metadata": {},
   "outputs": [],
   "source": [
    "custom_config = Config(stroke = False,\n",
    "                      show_legend = False,\n",
    "                      title = 'A Scatterplot in pygal')\n",
    "\n",
    "chart = pandas2pygal.scatter(data = data,\n",
    "                            group_primary = \"Customer Name\",\n",
    "                            x_values = \"Sales\",\n",
    "                            y_values = \"Order Quantity\",\n",
    "                            custom_config = custom_config)\n",
    "\n",
    "chart.render_to_file('scatterplot.svg')"
   ]
  }
 ],
 "metadata": {
  "kernelspec": {
   "display_name": "Python 3",
   "language": "python",
   "name": "python3"
  },
  "language_info": {
   "codemirror_mode": {
    "name": "ipython",
    "version": 3
   },
   "file_extension": ".py",
   "mimetype": "text/x-python",
   "name": "python",
   "nbconvert_exporter": "python",
   "pygments_lexer": "ipython3",
   "version": "3.6.5"
  },
  "toc": {
   "base_numbering": 1,
   "nav_menu": {},
   "number_sections": true,
   "sideBar": true,
   "skip_h1_title": false,
   "title_cell": "Table of Contents",
   "title_sidebar": "Contents",
   "toc_cell": false,
   "toc_position": {},
   "toc_section_display": true,
   "toc_window_display": false
  },
  "varInspector": {
   "cols": {
    "lenName": 16,
    "lenType": 16,
    "lenVar": 40
   },
   "kernels_config": {
    "python": {
     "delete_cmd_postfix": "",
     "delete_cmd_prefix": "del ",
     "library": "var_list.py",
     "varRefreshCmd": "print(var_dic_list())"
    },
    "r": {
     "delete_cmd_postfix": ") ",
     "delete_cmd_prefix": "rm(",
     "library": "var_list.r",
     "varRefreshCmd": "cat(var_dic_list()) "
    }
   },
   "types_to_exclude": [
    "module",
    "function",
    "builtin_function_or_method",
    "instance",
    "_Feature"
   ],
   "window_display": false
  }
 },
 "nbformat": 4,
 "nbformat_minor": 2
}
